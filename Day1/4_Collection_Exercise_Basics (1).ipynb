{
  "cells": [
    {
      "cell_type": "code",
      "execution_count": null,
      "metadata": {
        "id": "GWYt9r_5qTbT"
      },
      "outputs": [],
      "source": [
        "#Lists\n",
        "#Question 1: Create a list named fruits containing \"apple\", \"banana\", and \"cherry\". Print the list.\n",
        "\n"
      ]
    },
    {
      "cell_type": "code",
      "execution_count": 1,
      "metadata": {
        "id": "GZgqmzeQqTbU",
        "colab": {
          "base_uri": "https://localhost:8080/"
        },
        "outputId": "52b2b3f1-06c4-4ed4-e041-c5f9513a5675"
      },
      "outputs": [
        {
          "output_type": "stream",
          "name": "stdout",
          "text": [
            "['apple', 'banana', 'cherry']\n"
          ]
        }
      ],
      "source": [
        "fruits = [\"apple\", \"banana\", \"cherry\"]\n",
        "print(fruits)"
      ]
    },
    {
      "cell_type": "code",
      "execution_count": null,
      "metadata": {
        "id": "MPiWVmTTqTbU"
      },
      "outputs": [],
      "source": [
        "#Question 2: Add \"orange\" to the fruits list and print the updated list.\n",
        "\n"
      ]
    },
    {
      "cell_type": "code",
      "execution_count": 2,
      "metadata": {
        "id": "TbCFhoj8qTbU",
        "colab": {
          "base_uri": "https://localhost:8080/"
        },
        "outputId": "87711649-2891-4f84-ab9d-eec9d6d2b5bb"
      },
      "outputs": [
        {
          "output_type": "stream",
          "name": "stdout",
          "text": [
            "['apple', 'banana', 'cherry', 'orange']\n"
          ]
        }
      ],
      "source": [
        "fruits.append(\"orange\")\n",
        "print(fruits)"
      ]
    },
    {
      "cell_type": "code",
      "execution_count": null,
      "metadata": {
        "id": "F6_yCNhmqTbU"
      },
      "outputs": [],
      "source": [
        "#Question 3: Reverse the fruits list and print the result.\n",
        "\n"
      ]
    },
    {
      "cell_type": "code",
      "execution_count": 3,
      "metadata": {
        "id": "pHvdKlNjqTbU",
        "colab": {
          "base_uri": "https://localhost:8080/"
        },
        "outputId": "9f2e6b12-a52d-4ccb-c7a8-7008055eaa13"
      },
      "outputs": [
        {
          "output_type": "stream",
          "name": "stdout",
          "text": [
            "['orange', 'cherry', 'banana', 'apple']\n"
          ]
        }
      ],
      "source": [
        "fruits.reverse()\n",
        "print(fruits)"
      ]
    },
    {
      "cell_type": "code",
      "execution_count": null,
      "metadata": {
        "id": "WGvfNm3QqTbU"
      },
      "outputs": [],
      "source": [
        "#Question 4: Sort the following list numbers = [3, 1, 4, 1, 5, 9, 2, 6] in ascending order and print the result.\n",
        "\n"
      ]
    },
    {
      "cell_type": "code",
      "source": [
        "numbers = [3, 1, 4, 1, 5, 9, 2, 6]\n",
        "numbers.sort()\n",
        "print(numbers)"
      ],
      "metadata": {
        "colab": {
          "base_uri": "https://localhost:8080/"
        },
        "id": "4Wa-i8WyhvDU",
        "outputId": "74e0980b-e4ae-4388-d727-5b4123d0554a"
      },
      "execution_count": 4,
      "outputs": [
        {
          "output_type": "stream",
          "name": "stdout",
          "text": [
            "[1, 1, 2, 3, 4, 5, 6, 9]\n"
          ]
        }
      ]
    },
    {
      "cell_type": "code",
      "execution_count": null,
      "metadata": {
        "id": "sPv89Z53qTbU"
      },
      "outputs": [],
      "source": [
        "#Question 5: Remove the last element from the fruits list and print the modified list.\n",
        "\n"
      ]
    },
    {
      "cell_type": "code",
      "execution_count": 6,
      "metadata": {
        "id": "O4CProDuqTbV",
        "colab": {
          "base_uri": "https://localhost:8080/"
        },
        "outputId": "5926a0bf-6247-48cb-f01c-824ce6efc512"
      },
      "outputs": [
        {
          "output_type": "execute_result",
          "data": {
            "text/plain": [
              "['orange', 'cherry', 'banana']"
            ]
          },
          "metadata": {},
          "execution_count": 6
        }
      ],
      "source": [
        "fruits.pop()\n",
        "fruits"
      ]
    },
    {
      "cell_type": "code",
      "execution_count": null,
      "metadata": {
        "id": "k2eaEcLIqTbV"
      },
      "outputs": [],
      "source": [
        "#Tuples\n",
        "#Question 6: Create a tuple coordinates with elements (4, 5, 6) and print it.\n",
        "\n"
      ]
    },
    {
      "cell_type": "code",
      "execution_count": 7,
      "metadata": {
        "id": "r6KT2HZWqTbV",
        "colab": {
          "base_uri": "https://localhost:8080/"
        },
        "outputId": "a1b7dffb-e422-4dd3-ed94-d9bd5f5be67f"
      },
      "outputs": [
        {
          "output_type": "stream",
          "name": "stdout",
          "text": [
            "(4, 5, 6)\n"
          ]
        }
      ],
      "source": [
        "elements = (4, 5, 6)\n",
        "print(elements)"
      ]
    },
    {
      "cell_type": "code",
      "execution_count": null,
      "metadata": {
        "id": "lxG7jOXiqTbV"
      },
      "outputs": [],
      "source": [
        "#Question 7: Given the tuple tup = (1, 2, 3, 4, 5), slice it to only include the first three elements and print the result.\n",
        "\n"
      ]
    },
    {
      "cell_type": "code",
      "execution_count": 8,
      "metadata": {
        "id": "MptCsqItqTbV",
        "colab": {
          "base_uri": "https://localhost:8080/"
        },
        "outputId": "e7bccedd-8e13-4ea3-c6c6-32f733d92384"
      },
      "outputs": [
        {
          "output_type": "execute_result",
          "data": {
            "text/plain": [
              "(1, 2, 3)"
            ]
          },
          "metadata": {},
          "execution_count": 8
        }
      ],
      "source": [
        "tup = (1, 2, 3, 4, 5)\n",
        "tup[0:3]"
      ]
    },
    {
      "cell_type": "code",
      "execution_count": null,
      "metadata": {
        "id": "2C2I_HLqqTbW"
      },
      "outputs": [],
      "source": [
        "#Question 8: Try to change the first element of the coordinates tuple to 10. What happens?\n",
        "\n"
      ]
    },
    {
      "cell_type": "code",
      "execution_count": 9,
      "metadata": {
        "id": "gZNEDuFlqTbW",
        "colab": {
          "base_uri": "https://localhost:8080/",
          "height": 141
        },
        "outputId": "155c3bff-9d42-4038-99ff-3307adbf7f0c"
      },
      "outputs": [
        {
          "output_type": "error",
          "ename": "TypeError",
          "evalue": "'tuple' object does not support item assignment",
          "traceback": [
            "\u001b[0;31m---------------------------------------------------------------------------\u001b[0m",
            "\u001b[0;31mTypeError\u001b[0m                                 Traceback (most recent call last)",
            "\u001b[0;32m<ipython-input-9-8514f497dced>\u001b[0m in \u001b[0;36m<cell line: 1>\u001b[0;34m()\u001b[0m\n\u001b[0;32m----> 1\u001b[0;31m \u001b[0mtup\u001b[0m\u001b[0;34m[\u001b[0m\u001b[0;36m0\u001b[0m\u001b[0;34m]\u001b[0m\u001b[0;34m=\u001b[0m\u001b[0;36m10\u001b[0m\u001b[0;34m\u001b[0m\u001b[0;34m\u001b[0m\u001b[0m\n\u001b[0m",
            "\u001b[0;31mTypeError\u001b[0m: 'tuple' object does not support item assignment"
          ]
        }
      ],
      "source": [
        "tup[0]=10"
      ]
    },
    {
      "cell_type": "code",
      "execution_count": null,
      "metadata": {
        "id": "XbgDiOSyqTbX"
      },
      "outputs": [],
      "source": [
        "#Question 9: Count how many times 1 appears in the tuple tup = (1, 2, 3, 1, 1, 4, 1) and print the result.\n",
        "\n"
      ]
    },
    {
      "cell_type": "code",
      "execution_count": 10,
      "metadata": {
        "id": "JU9An6UQqTbZ",
        "colab": {
          "base_uri": "https://localhost:8080/"
        },
        "outputId": "4fc8f781-ab98-434e-974e-85292509e5af"
      },
      "outputs": [
        {
          "output_type": "execute_result",
          "data": {
            "text/plain": [
              "4"
            ]
          },
          "metadata": {},
          "execution_count": 10
        }
      ],
      "source": [
        "tup = (1, 2, 3, 1, 1, 4, 1)\n",
        "tup.count(1)"
      ]
    },
    {
      "cell_type": "code",
      "execution_count": null,
      "metadata": {
        "id": "DOycfS3eqTbZ"
      },
      "outputs": [],
      "source": [
        "#Question 10: Convert the tuple tup = (1, 2, 3) into a list, add the element 4 to the list, then convert it back to a tuple and print it.\n",
        "\n"
      ]
    },
    {
      "cell_type": "code",
      "source": [
        "tup = (1, 2, 3)\n",
        "list1 = list(tup)\n",
        "list1.append(4)\n",
        "tup = tuple(list1)\n",
        "print(tup)"
      ],
      "metadata": {
        "colab": {
          "base_uri": "https://localhost:8080/"
        },
        "id": "0TrzmdekigG8",
        "outputId": "e4805668-03b8-46c8-ae01-bdcf2ccd18ea"
      },
      "execution_count": 11,
      "outputs": [
        {
          "output_type": "stream",
          "name": "stdout",
          "text": [
            "(1, 2, 3, 4)\n"
          ]
        }
      ]
    },
    {
      "cell_type": "code",
      "execution_count": null,
      "metadata": {
        "id": "8e28FEEZqTba"
      },
      "outputs": [],
      "source": [
        "#Sets\n",
        "#Question 11: Create a set s1 with elements 1, 2, 3, and another set s2 with elements 3, 4, 5. Print the union of these two sets.\n",
        "\n"
      ]
    },
    {
      "cell_type": "code",
      "execution_count": 12,
      "metadata": {
        "id": "0Olx6AbrqTba",
        "colab": {
          "base_uri": "https://localhost:8080/"
        },
        "outputId": "e7cc4c3f-71f8-456c-9873-84d7769d255f"
      },
      "outputs": [
        {
          "output_type": "stream",
          "name": "stdout",
          "text": [
            "{1, 3, 4, 5}\n",
            "{1, 3, 4, 5}\n"
          ]
        }
      ],
      "source": [
        "s1 = {1, 3, 4}\n",
        "s2 = {3, 4, 5}\n",
        "print(s1 | s2)\n",
        "print(s1.union(s2))"
      ]
    },
    {
      "cell_type": "code",
      "execution_count": null,
      "metadata": {
        "id": "b0P0RUudqTba"
      },
      "outputs": [],
      "source": [
        "#Question 12: Find the intersection of s1 and s2 and print the result.\n",
        "\n"
      ]
    },
    {
      "cell_type": "code",
      "execution_count": 13,
      "metadata": {
        "id": "LnxkZPj-qTbb",
        "colab": {
          "base_uri": "https://localhost:8080/"
        },
        "outputId": "bc098812-1067-46ff-8a41-a7dd90cdcf2e"
      },
      "outputs": [
        {
          "output_type": "execute_result",
          "data": {
            "text/plain": [
              "{3, 4}"
            ]
          },
          "metadata": {},
          "execution_count": 13
        }
      ],
      "source": [
        "s1.intersection(s2)"
      ]
    },
    {
      "cell_type": "code",
      "execution_count": null,
      "metadata": {
        "id": "L2q62kL0qTbb"
      },
      "outputs": [],
      "source": [
        "#Question 13: Add element 6 to s1 and print the updated set.\n",
        "\n"
      ]
    },
    {
      "cell_type": "code",
      "execution_count": 15,
      "metadata": {
        "id": "yQOH9xsWqTbb"
      },
      "outputs": [],
      "source": [
        "s1.add(6)"
      ]
    },
    {
      "cell_type": "code",
      "source": [
        "s1"
      ],
      "metadata": {
        "colab": {
          "base_uri": "https://localhost:8080/"
        },
        "id": "hKiET3RWi59b",
        "outputId": "9bfba9ce-9386-4190-c818-721536aaba54"
      },
      "execution_count": 16,
      "outputs": [
        {
          "output_type": "execute_result",
          "data": {
            "text/plain": [
              "{1, 3, 4, 6}"
            ]
          },
          "metadata": {},
          "execution_count": 16
        }
      ]
    },
    {
      "cell_type": "code",
      "execution_count": null,
      "metadata": {
        "id": "RuIW9PTFqTbb"
      },
      "outputs": [],
      "source": [
        "#Question 14: Try to add duplicate element 3 to s1. What happens? Print s1 to verify.\n",
        "\n"
      ]
    },
    {
      "cell_type": "code",
      "execution_count": 17,
      "metadata": {
        "id": "5VaGRaWtqTbb",
        "colab": {
          "base_uri": "https://localhost:8080/"
        },
        "outputId": "5bc71de7-5986-4095-efe4-da19ee7ad506"
      },
      "outputs": [
        {
          "output_type": "execute_result",
          "data": {
            "text/plain": [
              "{1, 3, 4, 6}"
            ]
          },
          "metadata": {},
          "execution_count": 17
        }
      ],
      "source": [
        "s1.add(3)\n",
        "s1"
      ]
    },
    {
      "cell_type": "code",
      "execution_count": null,
      "metadata": {
        "id": "Qz9-oHpFqTbb"
      },
      "outputs": [],
      "source": [
        "#Question 15: Remove element 2 from s1 and print the updated set. Handle the case where the element might not exist.\n",
        "\n"
      ]
    },
    {
      "cell_type": "code",
      "execution_count": 18,
      "metadata": {
        "id": "PxIdeqanqTbb"
      },
      "outputs": [],
      "source": [
        "s1.discard(2)"
      ]
    },
    {
      "cell_type": "code",
      "source": [
        "s1"
      ],
      "metadata": {
        "colab": {
          "base_uri": "https://localhost:8080/"
        },
        "id": "4AETZ7RijGx7",
        "outputId": "79f51702-768e-426b-dee2-9b887a279a77"
      },
      "execution_count": 19,
      "outputs": [
        {
          "output_type": "execute_result",
          "data": {
            "text/plain": [
              "{1, 3, 4, 6}"
            ]
          },
          "metadata": {},
          "execution_count": 19
        }
      ]
    },
    {
      "cell_type": "code",
      "execution_count": null,
      "metadata": {
        "id": "zlDUU2FkqTbb"
      },
      "outputs": [],
      "source": [
        "#Dictionaries\n",
        "#Question 16: Create a dictionary person with keys \"name\", \"age\", and \"city\" and corresponding values \"Alice\", 30, and \"New York\". Print the dictionary.\n",
        "\n"
      ]
    },
    {
      "cell_type": "code",
      "execution_count": 20,
      "metadata": {
        "id": "8_M_koJbqTbb",
        "colab": {
          "base_uri": "https://localhost:8080/"
        },
        "outputId": "d0b0049f-9088-4c18-9c56-760209ae31ec"
      },
      "outputs": [
        {
          "output_type": "stream",
          "name": "stdout",
          "text": [
            "{'name': 'Alice', 'age': 30, 'City': 'New York'}\n"
          ]
        }
      ],
      "source": [
        "person = {\"name\": \"Alice\",\n",
        "          \"age\": 30,\n",
        "          \"City\": \"New York\",}\n",
        "print(person)"
      ]
    },
    {
      "cell_type": "code",
      "execution_count": null,
      "metadata": {
        "id": "3uoinBR4qTbb"
      },
      "outputs": [],
      "source": [
        "#Question 17: Add a new key-value pair \"gender\" with value \"female\" to the person dictionary and print the updated dictionary.\n",
        "\n"
      ]
    },
    {
      "cell_type": "code",
      "execution_count": 21,
      "metadata": {
        "id": "oOri7DaUqTbc",
        "colab": {
          "base_uri": "https://localhost:8080/"
        },
        "outputId": "c2733222-a7de-486e-933d-cf6b8abe9190"
      },
      "outputs": [
        {
          "output_type": "execute_result",
          "data": {
            "text/plain": [
              "{'name': 'Alice', 'age': 30, 'City': 'New York', 'gender': 'female'}"
            ]
          },
          "metadata": {},
          "execution_count": 21
        }
      ],
      "source": [
        "person['gender']=\"female\"\n",
        "person"
      ]
    },
    {
      "cell_type": "code",
      "execution_count": null,
      "metadata": {
        "id": "minFFp3nqTbc"
      },
      "outputs": [],
      "source": [
        "#Question 18: Update the \"age\" of the person to 31 and print the updated dictionary.\n",
        "\n"
      ]
    },
    {
      "cell_type": "code",
      "execution_count": 22,
      "metadata": {
        "id": "HthF8N2IqTbc",
        "colab": {
          "base_uri": "https://localhost:8080/"
        },
        "outputId": "303895d8-2dbe-43e3-8f90-9d72f6ab13fe"
      },
      "outputs": [
        {
          "output_type": "execute_result",
          "data": {
            "text/plain": [
              "{'name': 'Alice', 'age': 31, 'City': 'New York', 'gender': 'female'}"
            ]
          },
          "metadata": {},
          "execution_count": 22
        }
      ],
      "source": [
        "person['age'] = 31\n",
        "person"
      ]
    },
    {
      "cell_type": "code",
      "execution_count": null,
      "metadata": {
        "id": "_uYM7IGaqTbc"
      },
      "outputs": [],
      "source": [
        "#Question 19: Remove the \"city\" key from the person dictionary using the pop method and print the updated dictionary.\n",
        "\n"
      ]
    },
    {
      "cell_type": "code",
      "execution_count": 24,
      "metadata": {
        "id": "h8Cqn8iOqTbc",
        "colab": {
          "base_uri": "https://localhost:8080/"
        },
        "outputId": "076a311e-4338-455e-c043-6144f88bbdad"
      },
      "outputs": [
        {
          "output_type": "execute_result",
          "data": {
            "text/plain": [
              "{'name': 'Alice', 'age': 31, 'gender': 'female'}"
            ]
          },
          "metadata": {},
          "execution_count": 24
        }
      ],
      "source": [
        "person.pop(\"City\")\n",
        "person"
      ]
    },
    {
      "cell_type": "code",
      "execution_count": 26,
      "metadata": {
        "id": "9IwhM5IoqTbc"
      },
      "outputs": [],
      "source": [
        "#Question 20: Extract \"Mumbai\" from below collection\n",
        "\n",
        "list1 = {\"data\":[1,2,\"prashant\",\"python\",[10,20,30,40,50],{\"Maharashtra\":[\"Mumbai\",\"Chennai\",\"Delhi\",\"Kolkata\"]}]}"
      ]
    },
    {
      "cell_type": "code",
      "execution_count": 30,
      "metadata": {
        "id": "p4AsR2EQqTbd",
        "colab": {
          "base_uri": "https://localhost:8080/",
          "height": 35
        },
        "outputId": "2673deec-edb6-4359-b863-1e5a16a17af2"
      },
      "outputs": [
        {
          "output_type": "execute_result",
          "data": {
            "text/plain": [
              "'Mumbai'"
            ],
            "application/vnd.google.colaboratory.intrinsic+json": {
              "type": "string"
            }
          },
          "metadata": {},
          "execution_count": 30
        }
      ],
      "source": [
        "list1['data'][5]['Maharashtra'][0]"
      ]
    },
    {
      "cell_type": "code",
      "source": [],
      "metadata": {
        "id": "9mf4H7Jijxqp"
      },
      "execution_count": null,
      "outputs": []
    }
  ],
  "metadata": {
    "kernelspec": {
      "display_name": "Python 3",
      "language": "python",
      "name": "python3"
    },
    "language_info": {
      "codemirror_mode": {
        "name": "ipython",
        "version": 3
      },
      "file_extension": ".py",
      "mimetype": "text/x-python",
      "name": "python",
      "nbconvert_exporter": "python",
      "pygments_lexer": "ipython3",
      "version": "3.7.6"
    },
    "colab": {
      "provenance": []
    }
  },
  "nbformat": 4,
  "nbformat_minor": 0
}