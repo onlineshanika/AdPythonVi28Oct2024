{
  "nbformat": 4,
  "nbformat_minor": 0,
  "metadata": {
    "colab": {
      "provenance": []
    },
    "kernelspec": {
      "name": "python3",
      "display_name": "Python 3"
    },
    "language_info": {
      "name": "python"
    }
  },
  "cells": [
    {
      "cell_type": "code",
      "execution_count": null,
      "metadata": {
        "id": "ANlVn3AvGtgO"
      },
      "outputs": [],
      "source": [
        "#Map function\n",
        "#\n",
        "# THis allows you to map a function logic into an iterable object"
      ]
    },
    {
      "cell_type": "code",
      "source": [
        "def square(num):\n",
        "  return num * num"
      ],
      "metadata": {
        "id": "gbpDJuJ9G4Ml"
      },
      "execution_count": 1,
      "outputs": []
    },
    {
      "cell_type": "code",
      "source": [
        "list1 = [1,2,3,4,5]\n",
        "result = []\n",
        "\n",
        "for num in list1:\n",
        "  result.append(num * num)\n",
        "\n",
        "result"
      ],
      "metadata": {
        "colab": {
          "base_uri": "https://localhost:8080/"
        },
        "id": "7q0royG0G-UA",
        "outputId": "74cfaacb-8b67-4721-e700-952ee34a788c"
      },
      "execution_count": 2,
      "outputs": [
        {
          "output_type": "execute_result",
          "data": {
            "text/plain": [
              "[1, 4, 9, 16, 25]"
            ]
          },
          "metadata": {},
          "execution_count": 2
        }
      ]
    },
    {
      "cell_type": "code",
      "source": [
        "#map (functionLogic, collectionObject)\n",
        "list(map(square,list1))"
      ],
      "metadata": {
        "colab": {
          "base_uri": "https://localhost:8080/"
        },
        "id": "hSYTyLMAHH0v",
        "outputId": "f7f8b9d9-9278-4552-be7b-a6f213fb5f7f"
      },
      "execution_count": 4,
      "outputs": [
        {
          "output_type": "execute_result",
          "data": {
            "text/plain": [
              "[1, 4, 9, 16, 25]"
            ]
          },
          "metadata": {},
          "execution_count": 4
        }
      ]
    },
    {
      "cell_type": "code",
      "source": [
        "#Filter Function\n",
        "\n",
        "def even(num):\n",
        "  return num%2 == 0\n",
        "\n",
        "list(filter(even,list1))"
      ],
      "metadata": {
        "colab": {
          "base_uri": "https://localhost:8080/"
        },
        "id": "m7kG8bL_HMLu",
        "outputId": "2209a8f5-748e-41c9-8618-9ae8b02bc883"
      },
      "execution_count": 5,
      "outputs": [
        {
          "output_type": "execute_result",
          "data": {
            "text/plain": [
              "[2, 4]"
            ]
          },
          "metadata": {},
          "execution_count": 5
        }
      ]
    },
    {
      "cell_type": "code",
      "source": [
        "list(map(even,list1))"
      ],
      "metadata": {
        "colab": {
          "base_uri": "https://localhost:8080/"
        },
        "id": "WiCHPtzwHly-",
        "outputId": "62ef37cb-6660-41e1-b195-bd769513e118"
      },
      "execution_count": 6,
      "outputs": [
        {
          "output_type": "execute_result",
          "data": {
            "text/plain": [
              "[False, True, False, True, False]"
            ]
          },
          "metadata": {},
          "execution_count": 6
        }
      ]
    },
    {
      "cell_type": "code",
      "source": [
        "#Lambda Expression\n",
        "\n",
        "def square(num):\n",
        "  return num * num"
      ],
      "metadata": {
        "id": "cGnzU9TwHq7l"
      },
      "execution_count": 7,
      "outputs": []
    },
    {
      "cell_type": "code",
      "source": [
        "mysquareLambda = lambda num : num * num"
      ],
      "metadata": {
        "id": "kX1xZPtIH4BV"
      },
      "execution_count": 8,
      "outputs": []
    },
    {
      "cell_type": "code",
      "source": [
        "mysquareLambda(2)"
      ],
      "metadata": {
        "colab": {
          "base_uri": "https://localhost:8080/"
        },
        "id": "g5qyJmVZH-mW",
        "outputId": "9fee4272-1fb4-4b76-e4c5-aa838ece16df"
      },
      "execution_count": 10,
      "outputs": [
        {
          "output_type": "execute_result",
          "data": {
            "text/plain": [
              "4"
            ]
          },
          "metadata": {},
          "execution_count": 10
        }
      ]
    },
    {
      "cell_type": "code",
      "source": [
        "myaddLambda = lambda num1,num2 : num1 + num2\n",
        "myaddLambda(3,4)"
      ],
      "metadata": {
        "colab": {
          "base_uri": "https://localhost:8080/"
        },
        "id": "1ilP0oGxIABV",
        "outputId": "c6addcc7-74ce-4d87-b15e-4b3d8ea7efbd"
      },
      "execution_count": 11,
      "outputs": [
        {
          "output_type": "execute_result",
          "data": {
            "text/plain": [
              "7"
            ]
          },
          "metadata": {},
          "execution_count": 11
        }
      ]
    },
    {
      "cell_type": "code",
      "source": [],
      "metadata": {
        "id": "MlEUnNj0INut"
      },
      "execution_count": null,
      "outputs": []
    }
  ]
}