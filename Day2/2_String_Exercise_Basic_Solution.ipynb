{
  "cells": [
    {
      "cell_type": "code",
      "execution_count": null,
      "metadata": {
        "id": "0n7GYhJ-0FOl"
      },
      "outputs": [],
      "source": [
        "#Question 1: Basic String Creation\n",
        "#Write a Python program to create a string with the text \"Learning Python\" and print it.\n",
        "\n"
      ]
    },
    {
      "cell_type": "code",
      "execution_count": 1,
      "metadata": {
        "id": "QWLh7iQb0FOm",
        "colab": {
          "base_uri": "https://localhost:8080/"
        },
        "outputId": "03c10377-1da4-465c-8663-b2e62f7ec788"
      },
      "outputs": [
        {
          "output_type": "stream",
          "name": "stdout",
          "text": [
            "Learning Python\n"
          ]
        }
      ],
      "source": [
        "text = \"Learning Python\"\n",
        "print(text)"
      ]
    },
    {
      "cell_type": "code",
      "execution_count": null,
      "metadata": {
        "id": "C0QUDLzg0FOm"
      },
      "outputs": [],
      "source": [
        "#Question 2: String Slicing\n",
        "#Given the string str = \"Python Programming\", extract and print the word \"Programming\" from it.\n",
        "\n"
      ]
    },
    {
      "cell_type": "code",
      "execution_count": 2,
      "metadata": {
        "id": "FwVPXjek0FOm",
        "colab": {
          "base_uri": "https://localhost:8080/"
        },
        "outputId": "48d4bbfd-5f34-488f-afcc-9d2da2b54578"
      },
      "outputs": [
        {
          "output_type": "stream",
          "name": "stdout",
          "text": [
            "Programming\n"
          ]
        }
      ],
      "source": [
        "string1 = \"Python Programming\"\n",
        "print (string1[ 7:18])"
      ]
    },
    {
      "cell_type": "code",
      "execution_count": null,
      "metadata": {
        "id": "W2juwtWf0FOm"
      },
      "outputs": [],
      "source": [
        "#Question 3: String Methods\n",
        "#Given the string str = \"data science\", use a string method to convert it to uppercase and print the result.\n",
        "\n"
      ]
    },
    {
      "cell_type": "code",
      "execution_count": 3,
      "metadata": {
        "id": "PGqPzPKO0FOn",
        "colab": {
          "base_uri": "https://localhost:8080/"
        },
        "outputId": "d4d32a31-07fb-4e82-a47f-15162162366e"
      },
      "outputs": [
        {
          "output_type": "stream",
          "name": "stdout",
          "text": [
            "DATA SCIENCE\n"
          ]
        }
      ],
      "source": [
        "string3 = 'data science'\n",
        "print(string3.upper())"
      ]
    },
    {
      "cell_type": "code",
      "execution_count": null,
      "metadata": {
        "id": "LPlz-4Mt0FOn"
      },
      "outputs": [],
      "source": [
        "#Question 4: String Concatenation\n",
        "#Concatenate the following two strings str1 = \"Data\" and str2 = \"Analysis\" to form the complete string \"Data Analysis\" and print it.\n",
        "\n"
      ]
    },
    {
      "cell_type": "code",
      "execution_count": 4,
      "metadata": {
        "id": "1cAGhWVE0FOn",
        "colab": {
          "base_uri": "https://localhost:8080/"
        },
        "outputId": "c3b9c4d5-0833-4bbc-831e-cd63fce0254e"
      },
      "outputs": [
        {
          "output_type": "stream",
          "name": "stdout",
          "text": [
            "Data Analysis\n"
          ]
        }
      ],
      "source": [
        "string1 = \"Data\"\n",
        "string2 = \"Analysis\"\n",
        "print(string1 + \" \" + string2)"
      ]
    },
    {
      "cell_type": "code",
      "execution_count": null,
      "metadata": {
        "id": "K0G2A_IX0FOn"
      },
      "outputs": [],
      "source": [
        "#Question 5: Multiline String\n",
        "#Create a multiline string that represents the following poem and print it:\n",
        "\n",
        "\n",
        "#Roses are red,\n",
        "#Violets are blue,\n",
        "#Python is fun,\n",
        "#And so are you.\n",
        "\n"
      ]
    },
    {
      "cell_type": "code",
      "execution_count": 5,
      "metadata": {
        "id": "2E-DXKvW0FOn",
        "colab": {
          "base_uri": "https://localhost:8080/"
        },
        "outputId": "73c124db-924c-4ad4-f1f8-467a23a21a1f"
      },
      "outputs": [
        {
          "output_type": "stream",
          "name": "stdout",
          "text": [
            "\n",
            "#Roses are red,\n",
            "#Violets are blue,\n",
            "#Python is fun,\n",
            "#And so are you.\n",
            "\n"
          ]
        }
      ],
      "source": [
        "poem = '''\n",
        "#Roses are red,\n",
        "#Violets are blue,\n",
        "#Python is fun,\n",
        "#And so are you.\n",
        "'''\n",
        "print(poem)"
      ]
    },
    {
      "cell_type": "code",
      "execution_count": null,
      "metadata": {
        "id": "gZDgHk2J0FOn"
      },
      "outputs": [],
      "source": [
        "#Question 6: String Formatting\n",
        "#Use string formatting to inject variables name = \"Alice\" and age = 30 into the following sentence: \"My name is ___ and I am ___ years old.\" Print the result.\n",
        "\n"
      ]
    },
    {
      "cell_type": "code",
      "execution_count": 6,
      "metadata": {
        "id": "2sVUnhkL0FOn",
        "colab": {
          "base_uri": "https://localhost:8080/"
        },
        "outputId": "a90467c7-3a01-42f3-98fa-f84f75adb2ca"
      },
      "outputs": [
        {
          "output_type": "stream",
          "name": "stdout",
          "text": [
            "My name is Alice and I am 30 years old.\n"
          ]
        }
      ],
      "source": [
        "name = \"Alice\"\n",
        "age = 30\n",
        "print(f\"My name is {name} and I am {age} years old.\")"
      ]
    },
    {
      "cell_type": "code",
      "execution_count": null,
      "metadata": {
        "id": "_YalUzdM0FOn"
      },
      "outputs": [],
      "source": [
        "#Question 7: Escape Sequences\n",
        "#Print the following string exactly as it is: He said, \"Python is awesome!\" Ensure you handle the double quotes correctly.\n",
        "\n"
      ]
    },
    {
      "cell_type": "code",
      "execution_count": 7,
      "metadata": {
        "id": "b9en-VFP0FOn",
        "colab": {
          "base_uri": "https://localhost:8080/"
        },
        "outputId": "c4efea40-f5bf-4c4c-ea25-cd88da3612a3"
      },
      "outputs": [
        {
          "output_type": "stream",
          "name": "stdout",
          "text": [
            "He said, \"Python is awesome!\"\n"
          ]
        }
      ],
      "source": [
        "print('He said, \"Python is awesome!\"')"
      ]
    },
    {
      "cell_type": "code",
      "execution_count": null,
      "metadata": {
        "id": "A2wm9dKP0FOn"
      },
      "outputs": [],
      "source": [
        "#Question 8: String Membership\n",
        "#Check if the word \"Python\" exists in the string str = \"I am learning Python programming.\" Print True if it exists, otherwise print False.\n",
        "\n"
      ]
    },
    {
      "cell_type": "code",
      "execution_count": 10,
      "metadata": {
        "id": "WTV9hDDW0FOn",
        "colab": {
          "base_uri": "https://localhost:8080/"
        },
        "outputId": "8df95374-66f7-4eee-b9cd-3aa2d51f44a2"
      },
      "outputs": [
        {
          "output_type": "stream",
          "name": "stdout",
          "text": [
            "True\n"
          ]
        }
      ],
      "source": [
        "str1 = \"I am learning Python programming.\"\n",
        "print(\"python\" in str1.lower())"
      ]
    },
    {
      "cell_type": "code",
      "execution_count": null,
      "metadata": {
        "id": "w1aM9C1Q0FOn"
      },
      "outputs": [],
      "source": [
        "#Question 9: Replace Substring\n",
        "#Given the string str = \"Hello, World!\", replace the substring \"World\" with \"Python\" and print the result.\n",
        "\n"
      ]
    },
    {
      "cell_type": "code",
      "execution_count": 11,
      "metadata": {
        "id": "r1-dMGnK0FOo",
        "colab": {
          "base_uri": "https://localhost:8080/"
        },
        "outputId": "9fda0a7b-911d-4d21-9c40-9cd80b687b4f"
      },
      "outputs": [
        {
          "output_type": "stream",
          "name": "stdout",
          "text": [
            "Hello, Python!\n"
          ]
        }
      ],
      "source": [
        "str1 = \"Hello, World!\"\n",
        "str1 = str1.replace(\"World\", \"Python\")\n",
        "print (str1)"
      ]
    },
    {
      "cell_type": "code",
      "execution_count": null,
      "metadata": {
        "id": "8NyVMBxy0FOo"
      },
      "outputs": [],
      "source": [
        "#Question 10: String Split and Join\n",
        "#Given the string str = \"Python is fun\", split this string into a list of words and then join these words with a hyphen (-) as the separator. Print the resulting string."
      ]
    },
    {
      "cell_type": "code",
      "execution_count": 12,
      "metadata": {
        "id": "bnXkkJAO0FOo",
        "colab": {
          "base_uri": "https://localhost:8080/"
        },
        "outputId": "7994a033-b9b4-472e-8427-d60b5e1c27ef"
      },
      "outputs": [
        {
          "output_type": "stream",
          "name": "stdout",
          "text": [
            "Python-is-fun\n"
          ]
        }
      ],
      "source": [
        "str1 = \"Python is fun\"\n",
        "str2 = str1.split(\" \")\n",
        "str3 = \"-\".join(str2)\n",
        "print (str3)"
      ]
    },
    {
      "cell_type": "code",
      "execution_count": null,
      "metadata": {
        "id": "Ix1gWy6V0FOo"
      },
      "outputs": [],
      "source": []
    }
  ],
  "metadata": {
    "kernelspec": {
      "display_name": "Python 3",
      "language": "python",
      "name": "python3"
    },
    "language_info": {
      "codemirror_mode": {
        "name": "ipython",
        "version": 3
      },
      "file_extension": ".py",
      "mimetype": "text/x-python",
      "name": "python",
      "nbconvert_exporter": "python",
      "pygments_lexer": "ipython3",
      "version": "3.7.6"
    },
    "colab": {
      "provenance": []
    }
  },
  "nbformat": 4,
  "nbformat_minor": 0
}