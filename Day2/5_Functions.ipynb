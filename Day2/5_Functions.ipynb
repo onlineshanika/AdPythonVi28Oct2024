{
  "nbformat": 4,
  "nbformat_minor": 0,
  "metadata": {
    "colab": {
      "provenance": []
    },
    "kernelspec": {
      "name": "python3",
      "display_name": "Python 3"
    },
    "language_info": {
      "name": "python"
    }
  },
  "cells": [
    {
      "cell_type": "code",
      "execution_count": 1,
      "metadata": {
        "id": "XqpThTrRAeEY"
      },
      "outputs": [],
      "source": [
        "#Functions are reusable codes\n",
        "#Functions are of two types\n",
        "# 1. Built-in function | Pre-defined Functions -----------> len(), append(), pop(), upper(), etc\n",
        "# 2. Custom Function | User-defined Function"
      ]
    },
    {
      "cell_type": "code",
      "source": [
        "# Syntax\n",
        "#\n",
        "# def functionName(parameters):\n",
        "#   code block"
      ],
      "metadata": {
        "id": "RJG84k7aAvQs"
      },
      "execution_count": 2,
      "outputs": []
    },
    {
      "cell_type": "code",
      "source": [
        "# Simple Function that greets the user\n",
        "\n",
        "def greetMe(name):\n",
        "  print(\"Hello \",name)"
      ],
      "metadata": {
        "id": "ttIwKXxCA11V"
      },
      "execution_count": 3,
      "outputs": []
    },
    {
      "cell_type": "code",
      "source": [
        "type(greetMe)"
      ],
      "metadata": {
        "colab": {
          "base_uri": "https://localhost:8080/"
        },
        "id": "D-7ooKNUA7bb",
        "outputId": "99726615-7bf6-4bce-fc45-8dbe09b30712"
      },
      "execution_count": 4,
      "outputs": [
        {
          "output_type": "execute_result",
          "data": {
            "text/plain": [
              "function"
            ]
          },
          "metadata": {},
          "execution_count": 4
        }
      ]
    },
    {
      "cell_type": "code",
      "source": [
        "greetMe(\"Prashant\")"
      ],
      "metadata": {
        "colab": {
          "base_uri": "https://localhost:8080/"
        },
        "id": "Foz_FRE0A-iV",
        "outputId": "e722e2ee-8000-4f33-bd0b-a5377ce5944f"
      },
      "execution_count": 5,
      "outputs": [
        {
          "output_type": "stream",
          "name": "stdout",
          "text": [
            "Hello  Prashant\n"
          ]
        }
      ]
    },
    {
      "cell_type": "code",
      "source": [
        "#Function that returns the value --------- keyword 'return'\n",
        "\n",
        "#Function that can add two numbers\n",
        "\n",
        "def addNumbers(num1,num2):\n",
        "  result = num1 + num2\n",
        "  return result"
      ],
      "metadata": {
        "id": "vuKgjvrZBBST"
      },
      "execution_count": 6,
      "outputs": []
    },
    {
      "cell_type": "code",
      "source": [
        "resultOfAdd = addNumbers(3,4)\n",
        "resultOfAdd"
      ],
      "metadata": {
        "colab": {
          "base_uri": "https://localhost:8080/"
        },
        "id": "Ncyq_k_CBR3k",
        "outputId": "3f0366ad-f217-4327-836b-5ef2ac636182"
      },
      "execution_count": 7,
      "outputs": [
        {
          "output_type": "execute_result",
          "data": {
            "text/plain": [
              "7"
            ]
          },
          "metadata": {},
          "execution_count": 7
        }
      ]
    },
    {
      "cell_type": "code",
      "source": [
        "help(len)"
      ],
      "metadata": {
        "colab": {
          "base_uri": "https://localhost:8080/"
        },
        "id": "wJwiZRlsBa97",
        "outputId": "e0efc445-ca74-42cd-f84f-64d73285de1d"
      },
      "execution_count": 8,
      "outputs": [
        {
          "output_type": "stream",
          "name": "stdout",
          "text": [
            "Help on built-in function len in module builtins:\n",
            "\n",
            "len(obj, /)\n",
            "    Return the number of items in a container.\n",
            "\n"
          ]
        }
      ]
    },
    {
      "cell_type": "code",
      "source": [
        "?addNumbers"
      ],
      "metadata": {
        "id": "6G6_yV7wBhXu"
      },
      "execution_count": 10,
      "outputs": []
    },
    {
      "cell_type": "code",
      "source": [
        "#Function that can add two numbers with docstring\n",
        "\n",
        "def addNumbers(num1,num2):\n",
        "  '''\n",
        "  ========================================================\n",
        "  Author: Prashant N\n",
        "\n",
        "  This function is responsible to add two numbers\n",
        "\n",
        "  Usage:\n",
        "\n",
        "  addNumbers(4,5) ----> return ----> 9\n",
        "  ========================================================\n",
        "\n",
        "  '''\n",
        "  result = num1 + num2\n",
        "  return result"
      ],
      "metadata": {
        "id": "HWOD_FIABk7U"
      },
      "execution_count": 11,
      "outputs": []
    },
    {
      "cell_type": "code",
      "source": [
        "help(addNumbers)"
      ],
      "metadata": {
        "colab": {
          "base_uri": "https://localhost:8080/"
        },
        "id": "ZHWwXHX_CBit",
        "outputId": "e264dfc1-2089-4c96-d02a-b4f2506e9ca9"
      },
      "execution_count": 14,
      "outputs": [
        {
          "output_type": "stream",
          "name": "stdout",
          "text": [
            "Help on function addNumbers in module __main__:\n",
            "\n",
            "addNumbers(num1, num2)\n",
            "    ========================================================\n",
            "    Author: Prashant N\n",
            "    \n",
            "    This function is responsible to add two numbers\n",
            "    \n",
            "    Usage:\n",
            "    \n",
            "    addNumbers(4,5) ----> return ----> 9\n",
            "    ========================================================\n",
            "\n"
          ]
        }
      ]
    },
    {
      "cell_type": "code",
      "source": [
        "addNumbers(4)"
      ],
      "metadata": {
        "colab": {
          "base_uri": "https://localhost:8080/",
          "height": 141
        },
        "id": "3lOTnpwaCDhT",
        "outputId": "143b5069-b243-4e81-9093-700dca9a0dcf"
      },
      "execution_count": 15,
      "outputs": [
        {
          "output_type": "error",
          "ename": "TypeError",
          "evalue": "addNumbers() missing 1 required positional argument: 'num2'",
          "traceback": [
            "\u001b[0;31m---------------------------------------------------------------------------\u001b[0m",
            "\u001b[0;31mTypeError\u001b[0m                                 Traceback (most recent call last)",
            "\u001b[0;32m<ipython-input-15-d7b6ac641537>\u001b[0m in \u001b[0;36m<cell line: 1>\u001b[0;34m()\u001b[0m\n\u001b[0;32m----> 1\u001b[0;31m \u001b[0maddNumbers\u001b[0m\u001b[0;34m(\u001b[0m\u001b[0;36m4\u001b[0m\u001b[0;34m)\u001b[0m\u001b[0;34m\u001b[0m\u001b[0;34m\u001b[0m\u001b[0m\n\u001b[0m",
            "\u001b[0;31mTypeError\u001b[0m: addNumbers() missing 1 required positional argument: 'num2'"
          ]
        }
      ]
    },
    {
      "cell_type": "code",
      "source": [
        "def addNumbers(num1=0,num2=0):\n",
        "  '''\n",
        "  ========================================================\n",
        "  Author: Prashant N\n",
        "\n",
        "  This function is responsible to add two numbers\n",
        "\n",
        "  Usage:\n",
        "\n",
        "  addNumbers(4,5) ----> return ----> 9\n",
        "  ========================================================\n",
        "\n",
        "  '''\n",
        "  result = num1 + num2\n",
        "  return result"
      ],
      "metadata": {
        "id": "2A30QquGCiZN"
      },
      "execution_count": 16,
      "outputs": []
    },
    {
      "cell_type": "code",
      "source": [
        "addNumbers(3)"
      ],
      "metadata": {
        "colab": {
          "base_uri": "https://localhost:8080/"
        },
        "id": "ZVLY8MtSCkKy",
        "outputId": "74132b01-5b2d-49f0-cba8-fc1cefeb090a"
      },
      "execution_count": 18,
      "outputs": [
        {
          "output_type": "execute_result",
          "data": {
            "text/plain": [
              "3"
            ]
          },
          "metadata": {},
          "execution_count": 18
        }
      ]
    },
    {
      "cell_type": "code",
      "source": [],
      "metadata": {
        "id": "nxpph0kwCl3i"
      },
      "execution_count": null,
      "outputs": []
    }
  ]
}