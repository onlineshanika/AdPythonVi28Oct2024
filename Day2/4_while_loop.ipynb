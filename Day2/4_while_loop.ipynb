{
  "nbformat": 4,
  "nbformat_minor": 0,
  "metadata": {
    "colab": {
      "provenance": []
    },
    "kernelspec": {
      "name": "python3",
      "display_name": "Python 3"
    },
    "language_info": {
      "name": "python"
    }
  },
  "cells": [
    {
      "cell_type": "code",
      "execution_count": 1,
      "metadata": {
        "id": "H4rFytYj6irB"
      },
      "outputs": [],
      "source": [
        "# While loop\n",
        "#\n",
        "# Syntax\n",
        "#\n",
        "# initializer = 0\n",
        "# while testCondition:\n",
        "#      execute block\n",
        "#      initializer += 1\n",
        "#"
      ]
    },
    {
      "cell_type": "code",
      "source": [
        "num = 1\n",
        "\n",
        "while num <= 10:\n",
        "  print(num)\n",
        "  num = num + 1"
      ],
      "metadata": {
        "colab": {
          "base_uri": "https://localhost:8080/"
        },
        "id": "26IFcV5w6056",
        "outputId": "840d561b-1e94-4963-b0fa-3ec184b95316"
      },
      "execution_count": 2,
      "outputs": [
        {
          "output_type": "stream",
          "name": "stdout",
          "text": [
            "1\n",
            "2\n",
            "3\n",
            "4\n",
            "5\n",
            "6\n",
            "7\n",
            "8\n",
            "9\n",
            "10\n"
          ]
        }
      ]
    },
    {
      "cell_type": "code",
      "source": [
        "list1 = [1,2,3,4,5,6,7,8,9,10]\n",
        "len(list1)"
      ],
      "metadata": {
        "colab": {
          "base_uri": "https://localhost:8080/"
        },
        "id": "ISUQmSeg7ZzC",
        "outputId": "c5564995-c06e-4b28-b3f9-848fe168eef4"
      },
      "execution_count": 4,
      "outputs": [
        {
          "output_type": "execute_result",
          "data": {
            "text/plain": [
              "10"
            ]
          },
          "metadata": {},
          "execution_count": 4
        }
      ]
    },
    {
      "cell_type": "code",
      "source": [
        "list1 = [1,2,3,4,5,6,7,8,9,10]\n",
        "\n",
        "listLength = len(list1)\n",
        "listIndex = 0\n",
        "\n",
        "while listIndex < listLength:\n",
        "  print(list1[listIndex])\n",
        "  listIndex += 1"
      ],
      "metadata": {
        "colab": {
          "base_uri": "https://localhost:8080/"
        },
        "id": "htjBcmiW7Bin",
        "outputId": "0eec7ff7-a134-469a-96d4-9b1553d9d709"
      },
      "execution_count": 5,
      "outputs": [
        {
          "output_type": "stream",
          "name": "stdout",
          "text": [
            "1\n",
            "2\n",
            "3\n",
            "4\n",
            "5\n",
            "6\n",
            "7\n",
            "8\n",
            "9\n",
            "10\n"
          ]
        }
      ]
    },
    {
      "cell_type": "code",
      "source": [
        "#Extract even numbers from list1\n",
        "\n",
        "list1 = [1,2,3,4,5,6,7,8,9,10]\n",
        "\n",
        "listLength = len(list1)\n",
        "listIndex = 0\n",
        "\n",
        "while listIndex < listLength:\n",
        "  if list1[listIndex] % 2 == 0:\n",
        "    print(list1[listIndex])\n",
        "  listIndex += 1"
      ],
      "metadata": {
        "colab": {
          "base_uri": "https://localhost:8080/"
        },
        "id": "Shw4rG247qmZ",
        "outputId": "4edacc4b-3329-4e39-e6c8-5d5bbc13a8bd"
      },
      "execution_count": 6,
      "outputs": [
        {
          "output_type": "stream",
          "name": "stdout",
          "text": [
            "2\n",
            "4\n",
            "6\n",
            "8\n",
            "10\n"
          ]
        }
      ]
    },
    {
      "cell_type": "code",
      "source": [
        "#Extract odd numbers from list1\n",
        "\n"
      ],
      "metadata": {
        "id": "Hw6IoA5e8De-"
      },
      "execution_count": null,
      "outputs": []
    },
    {
      "cell_type": "code",
      "source": [
        "#\n",
        "# break, continue, pass ---------- Keywords\n",
        "#\n",
        "# a. break ----------- Breaking out of the loop based on some condition\n",
        "# b. continue -------- Goes to the top of the loop\n",
        "# c. pass ------------ Do nothing\n",
        "#"
      ],
      "metadata": {
        "id": "Gb9zHl7K8IUz"
      },
      "execution_count": null,
      "outputs": []
    },
    {
      "cell_type": "code",
      "source": [
        "#Example of break\n",
        "\n",
        "#Exit the loop if num = 5\n",
        "num = 1\n",
        "\n",
        "while num <= 10:\n",
        "  if num == 5:\n",
        "    break\n",
        "  print(num)\n",
        "  num = num + 1"
      ],
      "metadata": {
        "colab": {
          "base_uri": "https://localhost:8080/"
        },
        "id": "7IkN7DMS8VWg",
        "outputId": "8d691acc-cd16-493d-a41c-331b737560c5"
      },
      "execution_count": 7,
      "outputs": [
        {
          "output_type": "stream",
          "name": "stdout",
          "text": [
            "1\n",
            "2\n",
            "3\n",
            "4\n"
          ]
        }
      ]
    },
    {
      "cell_type": "code",
      "source": [
        "#Example of  continue\n",
        "\n",
        "#dont print 5 if num == 5\n",
        "num = 1\n",
        "\n",
        "while num <= 10:\n",
        "  if num == 5:\n",
        "    num += 1\n",
        "    continue\n",
        "  print(num)\n",
        "  num = num + 1"
      ],
      "metadata": {
        "colab": {
          "base_uri": "https://localhost:8080/"
        },
        "id": "o5BG01a58grx",
        "outputId": "a0e1667d-b3d8-40c4-b74c-5638bd0d61e8"
      },
      "execution_count": 8,
      "outputs": [
        {
          "output_type": "stream",
          "name": "stdout",
          "text": [
            "1\n",
            "2\n",
            "3\n",
            "4\n",
            "6\n",
            "7\n",
            "8\n",
            "9\n",
            "10\n"
          ]
        }
      ]
    }
  ]
}