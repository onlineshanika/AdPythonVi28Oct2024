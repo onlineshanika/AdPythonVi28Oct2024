{
  "cells": [
    {
      "cell_type": "code",
      "execution_count": null,
      "metadata": {
        "id": "0n7GYhJ-0FOl"
      },
      "outputs": [],
      "source": [
        "#Question 1: Basic String Creation\n",
        "#Write a Python program to create a string with the text \"Learning Python\" and print it.\n",
        "\n"
      ]
    },
    {
      "cell_type": "code",
      "execution_count": null,
      "metadata": {
        "id": "QWLh7iQb0FOm"
      },
      "outputs": [],
      "source": []
    },
    {
      "cell_type": "code",
      "execution_count": null,
      "metadata": {
        "id": "C0QUDLzg0FOm"
      },
      "outputs": [],
      "source": [
        "#Question 2: String Slicing\n",
        "#Given the string str = \"Python Programming\", extract and print the word \"Programming\" from it.\n",
        "\n"
      ]
    },
    {
      "cell_type": "code",
      "execution_count": null,
      "metadata": {
        "id": "FwVPXjek0FOm"
      },
      "outputs": [],
      "source": []
    },
    {
      "cell_type": "code",
      "execution_count": null,
      "metadata": {
        "id": "W2juwtWf0FOm"
      },
      "outputs": [],
      "source": [
        "#Question 3: String Methods\n",
        "#Given the string str = \"data science\", use a string method to convert it to uppercase and print the result.\n",
        "\n"
      ]
    },
    {
      "cell_type": "code",
      "execution_count": null,
      "metadata": {
        "id": "PGqPzPKO0FOn"
      },
      "outputs": [],
      "source": []
    },
    {
      "cell_type": "code",
      "execution_count": null,
      "metadata": {
        "id": "LPlz-4Mt0FOn"
      },
      "outputs": [],
      "source": [
        "#Question 4: String Concatenation\n",
        "#Concatenate the following two strings str1 = \"Data\" and str2 = \"Analysis\" to form the complete string \"Data Analysis\" and print it.\n",
        "\n"
      ]
    },
    {
      "cell_type": "code",
      "execution_count": null,
      "metadata": {
        "id": "1cAGhWVE0FOn"
      },
      "outputs": [],
      "source": []
    },
    {
      "cell_type": "code",
      "execution_count": null,
      "metadata": {
        "id": "K0G2A_IX0FOn"
      },
      "outputs": [],
      "source": [
        "#Question 5: Multiline String\n",
        "#Create a multiline string that represents the following poem and print it:\n",
        "\n",
        "\n",
        "#Roses are red,\n",
        "#Violets are blue,\n",
        "#Python is fun,\n",
        "#And so are you.\n",
        "\n"
      ]
    },
    {
      "cell_type": "code",
      "execution_count": null,
      "metadata": {
        "id": "2E-DXKvW0FOn"
      },
      "outputs": [],
      "source": []
    },
    {
      "cell_type": "code",
      "execution_count": null,
      "metadata": {
        "id": "gZDgHk2J0FOn"
      },
      "outputs": [],
      "source": [
        "#Question 6: String Formatting\n",
        "#Use string formatting to inject variables name = \"Alice\" and age = 30 into the following sentence: \"My name is ___ and I am ___ years old.\" Print the result.\n",
        "\n"
      ]
    },
    {
      "cell_type": "code",
      "execution_count": null,
      "metadata": {
        "id": "2sVUnhkL0FOn"
      },
      "outputs": [],
      "source": []
    },
    {
      "cell_type": "code",
      "execution_count": null,
      "metadata": {
        "id": "_YalUzdM0FOn"
      },
      "outputs": [],
      "source": [
        "#Question 7: Escape Sequences\n",
        "#Print the following string exactly as it is: He said, \"Python is awesome!\" Ensure you handle the double quotes correctly.\n",
        "\n"
      ]
    },
    {
      "cell_type": "code",
      "execution_count": null,
      "metadata": {
        "id": "b9en-VFP0FOn"
      },
      "outputs": [],
      "source": []
    },
    {
      "cell_type": "code",
      "execution_count": null,
      "metadata": {
        "id": "A2wm9dKP0FOn"
      },
      "outputs": [],
      "source": [
        "#Question 8: String Membership\n",
        "#Check if the word \"Python\" exists in the string str = \"I am learning Python programming.\" Print True if it exists, otherwise print False.\n",
        "\n"
      ]
    },
    {
      "cell_type": "code",
      "execution_count": null,
      "metadata": {
        "id": "WTV9hDDW0FOn"
      },
      "outputs": [],
      "source": []
    },
    {
      "cell_type": "code",
      "execution_count": null,
      "metadata": {
        "id": "w1aM9C1Q0FOn"
      },
      "outputs": [],
      "source": [
        "#Question 9: Replace Substring\n",
        "#Given the string str = \"Hello, World!\", replace the substring \"World\" with \"Python\" and print the result.\n",
        "\n"
      ]
    },
    {
      "cell_type": "code",
      "execution_count": null,
      "metadata": {
        "id": "r1-dMGnK0FOo"
      },
      "outputs": [],
      "source": []
    },
    {
      "cell_type": "code",
      "execution_count": null,
      "metadata": {
        "id": "8NyVMBxy0FOo"
      },
      "outputs": [],
      "source": [
        "#Question 10: String Split and Join\n",
        "#Given the string str = \"Python is fun\", split this string into a list of words and then join these words with a hyphen (-) as the separator. Print the resulting string."
      ]
    },
    {
      "cell_type": "code",
      "execution_count": null,
      "metadata": {
        "id": "bnXkkJAO0FOo"
      },
      "outputs": [],
      "source": []
    },
    {
      "cell_type": "code",
      "execution_count": null,
      "metadata": {
        "id": "Ix1gWy6V0FOo"
      },
      "outputs": [],
      "source": []
    }
  ],
  "metadata": {
    "kernelspec": {
      "display_name": "Python 3",
      "language": "python",
      "name": "python3"
    },
    "language_info": {
      "codemirror_mode": {
        "name": "ipython",
        "version": 3
      },
      "file_extension": ".py",
      "mimetype": "text/x-python",
      "name": "python",
      "nbconvert_exporter": "python",
      "pygments_lexer": "ipython3",
      "version": "3.7.6"
    },
    "colab": {
      "provenance": []
    }
  },
  "nbformat": 4,
  "nbformat_minor": 0
}