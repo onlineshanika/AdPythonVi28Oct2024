{
  "nbformat": 4,
  "nbformat_minor": 0,
  "metadata": {
    "colab": {
      "provenance": []
    },
    "kernelspec": {
      "name": "python3",
      "display_name": "Python 3"
    },
    "language_info": {
      "name": "python"
    }
  },
  "cells": [
    {
      "cell_type": "code",
      "execution_count": null,
      "metadata": {
        "id": "ut0zgBIMvPKV"
      },
      "outputs": [],
      "source": [
        "#For Loop\n",
        "#\n",
        "# This loop acts as an Iterator in Python\n",
        "#\n",
        "# Syntax:\n",
        "#\n",
        "# for element in collectionObject:\n",
        "#     action on the element"
      ]
    },
    {
      "cell_type": "code",
      "source": [
        "list1 = [1,2,3,4,5,6,7,8,9,10]"
      ],
      "metadata": {
        "id": "4hvZojgbvclH"
      },
      "execution_count": 1,
      "outputs": []
    },
    {
      "cell_type": "code",
      "source": [
        "# Accessing each element in the collection object\n",
        "\n",
        "for element in list1:\n",
        "  print(element)"
      ],
      "metadata": {
        "colab": {
          "base_uri": "https://localhost:8080/"
        },
        "id": "NyLKHgNbviV1",
        "outputId": "5baa8132-8876-4d25-c4b9-99854f47b7c0"
      },
      "execution_count": 2,
      "outputs": [
        {
          "output_type": "stream",
          "name": "stdout",
          "text": [
            "1\n",
            "2\n",
            "3\n",
            "4\n",
            "5\n",
            "6\n",
            "7\n",
            "8\n",
            "9\n",
            "10\n"
          ]
        }
      ]
    },
    {
      "cell_type": "code",
      "source": [
        "#Multiply each element by 2\n",
        "\n",
        "resultSet = []\n",
        "\n",
        "for element in list1:\n",
        "  resultSet.append(element * 2)\n",
        "\n",
        "print(resultSet)"
      ],
      "metadata": {
        "colab": {
          "base_uri": "https://localhost:8080/"
        },
        "id": "BpTeeAYfvs6G",
        "outputId": "fd1364fa-d7bf-4a8c-bdfd-b7f050caaa20"
      },
      "execution_count": 4,
      "outputs": [
        {
          "output_type": "stream",
          "name": "stdout",
          "text": [
            "[2, 4, 6, 8, 10, 12, 14, 16, 18, 20]\n"
          ]
        }
      ]
    },
    {
      "cell_type": "code",
      "source": [
        "#Extract even numbers from list\n",
        "\n",
        "resultSet = []\n",
        "\n",
        "for element in list1:\n",
        "  if element % 2 == 0:\n",
        "    resultSet.append(element)\n",
        "\n",
        "print(resultSet)"
      ],
      "metadata": {
        "colab": {
          "base_uri": "https://localhost:8080/"
        },
        "id": "1EIa7l1OwI73",
        "outputId": "9884dd00-dc1a-41ff-a870-76f4c64aa6c6"
      },
      "execution_count": 10,
      "outputs": [
        {
          "output_type": "stream",
          "name": "stdout",
          "text": [
            "[2, 4, 6, 8, 10]\n"
          ]
        }
      ]
    },
    {
      "cell_type": "code",
      "source": [
        "#Extract odd numbers from list\n",
        "\n"
      ],
      "metadata": {
        "id": "3SpChAb4wMp8"
      },
      "execution_count": null,
      "outputs": []
    },
    {
      "cell_type": "code",
      "source": [
        "#String Handling\n",
        "\n",
        "str1 = \"Welcome to Python\"\n",
        "\n",
        "for element in str1:\n",
        "  print(element)"
      ],
      "metadata": {
        "colab": {
          "base_uri": "https://localhost:8080/"
        },
        "id": "SSg9frszwjJ9",
        "outputId": "d1ff523b-ac75-406a-e104-4b4e41d2944f"
      },
      "execution_count": 12,
      "outputs": [
        {
          "output_type": "stream",
          "name": "stdout",
          "text": [
            "W\n",
            "e\n",
            "l\n",
            "c\n",
            "o\n",
            "m\n",
            "e\n",
            " \n",
            "t\n",
            "o\n",
            " \n",
            "P\n",
            "y\n",
            "t\n",
            "h\n",
            "o\n",
            "n\n"
          ]
        }
      ]
    },
    {
      "cell_type": "code",
      "source": [
        "#Identify how many number of times the character 'e' is repeated in the given str1 using for loop\n",
        "\n"
      ],
      "metadata": {
        "id": "rsnVDqnpwq9j"
      },
      "execution_count": 13,
      "outputs": []
    },
    {
      "cell_type": "code",
      "source": [
        "#For loop in tuple\n",
        "\n",
        "tup1 = (1,2,3,4,5)\n",
        "\n",
        "for element in tup1:\n",
        "  print(element)"
      ],
      "metadata": {
        "colab": {
          "base_uri": "https://localhost:8080/"
        },
        "id": "EAVPee0mw427",
        "outputId": "5d568b55-d6bd-42cd-ed23-5d31e09d4b3e"
      },
      "execution_count": 14,
      "outputs": [
        {
          "output_type": "stream",
          "name": "stdout",
          "text": [
            "1\n",
            "2\n",
            "3\n",
            "4\n",
            "5\n"
          ]
        }
      ]
    },
    {
      "cell_type": "code",
      "source": [
        "#For loop in Dictionary\n",
        "\n",
        "d = {'k1':1, 'k2':2, 'k3':3}\n",
        "\n",
        "for element in d:\n",
        "  print(element)"
      ],
      "metadata": {
        "colab": {
          "base_uri": "https://localhost:8080/"
        },
        "id": "FolgzRwaxC3L",
        "outputId": "eeda5323-5be9-4964-9183-3b389df3e20b"
      },
      "execution_count": 15,
      "outputs": [
        {
          "output_type": "stream",
          "name": "stdout",
          "text": [
            "k1\n",
            "k2\n",
            "k3\n"
          ]
        }
      ]
    },
    {
      "cell_type": "code",
      "source": [
        "#In dictionary\n",
        "# To access keys ------- keys()\n",
        "# To access values ----- values()\n",
        "# To access k,v pair --- items()"
      ],
      "metadata": {
        "id": "CD-6ae3ixQkK"
      },
      "execution_count": 16,
      "outputs": []
    },
    {
      "cell_type": "code",
      "source": [
        "for element in d.keys():\n",
        "  print(element)"
      ],
      "metadata": {
        "colab": {
          "base_uri": "https://localhost:8080/"
        },
        "id": "UeslbMUbxdnj",
        "outputId": "63393bad-fe34-45e8-e761-b67b61f78077"
      },
      "execution_count": 17,
      "outputs": [
        {
          "output_type": "stream",
          "name": "stdout",
          "text": [
            "k1\n",
            "k2\n",
            "k3\n"
          ]
        }
      ]
    },
    {
      "cell_type": "code",
      "source": [
        "for element in d.values():\n",
        "  print(element)"
      ],
      "metadata": {
        "colab": {
          "base_uri": "https://localhost:8080/"
        },
        "id": "x8c_QE2Gxgok",
        "outputId": "25939f60-4af3-4739-f848-7e377ae401e0"
      },
      "execution_count": 18,
      "outputs": [
        {
          "output_type": "stream",
          "name": "stdout",
          "text": [
            "1\n",
            "2\n",
            "3\n"
          ]
        }
      ]
    },
    {
      "cell_type": "code",
      "source": [
        "for element in d.items():\n",
        "  print(element)"
      ],
      "metadata": {
        "colab": {
          "base_uri": "https://localhost:8080/"
        },
        "id": "22Yh_VY5xkjk",
        "outputId": "e177d7c6-2def-4e62-95fc-1a8bd79365cb"
      },
      "execution_count": 19,
      "outputs": [
        {
          "output_type": "stream",
          "name": "stdout",
          "text": [
            "('k1', 1)\n",
            "('k2', 2)\n",
            "('k3', 3)\n"
          ]
        }
      ]
    },
    {
      "cell_type": "code",
      "source": [
        "for k,v in d.items():\n",
        "  print(f\"Key is {k} and Value is {v}\")"
      ],
      "metadata": {
        "colab": {
          "base_uri": "https://localhost:8080/"
        },
        "id": "3J0s2sH3xoOT",
        "outputId": "ced783de-088e-4643-dd84-27a464a075ff"
      },
      "execution_count": 20,
      "outputs": [
        {
          "output_type": "stream",
          "name": "stdout",
          "text": [
            "Key is k1 and Value is 1\n",
            "Key is k2 and Value is 2\n",
            "Key is k3 and Value is 3\n"
          ]
        }
      ]
    },
    {
      "cell_type": "code",
      "source": [],
      "metadata": {
        "id": "QFYN5SFxx2aW"
      },
      "execution_count": null,
      "outputs": []
    }
  ]
}