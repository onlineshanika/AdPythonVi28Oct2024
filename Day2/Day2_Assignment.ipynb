{
  "nbformat": 4,
  "nbformat_minor": 0,
  "metadata": {
    "colab": {
      "provenance": []
    },
    "kernelspec": {
      "name": "python3",
      "display_name": "Python 3"
    },
    "language_info": {
      "name": "python"
    }
  },
  "cells": [
    {
      "cell_type": "code",
      "execution_count": null,
      "metadata": {
        "id": "ORhoUdHUJU3V"
      },
      "outputs": [],
      "source": [
        "#Sum of Squares: Write a for loop to calculate the sum of squares of all numbers from 1 to 50\n"
      ]
    },
    {
      "cell_type": "code",
      "source": [
        "#Pattern Printing: Write a for loop to print the following pattern:\n",
        "*\n",
        "**\n",
        "***\n",
        "****\n",
        "*****"
      ],
      "metadata": {
        "id": "TUAEQ6HRKMhS"
      },
      "execution_count": null,
      "outputs": []
    },
    {
      "cell_type": "code",
      "source": [
        "#Fibonacci Sequence: Write a program using a for loop to print the first 10 numbers of the Fibonacci sequence.\n"
      ],
      "metadata": {
        "id": "w7zs6bLgKSfy"
      },
      "execution_count": null,
      "outputs": []
    },
    {
      "cell_type": "code",
      "source": [
        "#List Comprehension: Write a for loop to filter out all numbers divisible by 3 from a given\n",
        "#list and store them in a new list.\n"
      ],
      "metadata": {
        "id": "itEz65daKVVB"
      },
      "execution_count": null,
      "outputs": []
    },
    {
      "cell_type": "code",
      "source": [
        "#Digit Sum: Write a while loop to calculate the sum of digits of an integer input by the user.\n"
      ],
      "metadata": {
        "id": "3M5Ht8JWKaeI"
      },
      "execution_count": null,
      "outputs": []
    },
    {
      "cell_type": "code",
      "source": [
        "#Leap Year Check: Write a function is_leap_year(year) that returns True if the given year is a leap year,\n",
        "#otherwise returns False.\n"
      ],
      "metadata": {
        "id": "mSjU9zxFKeTJ"
      },
      "execution_count": null,
      "outputs": []
    },
    {
      "cell_type": "code",
      "source": [
        "#String Palindrome: Write a function is_palindrome(s) to check if a given string is a palindrome.\n"
      ],
      "metadata": {
        "id": "DzIdSYTKKlzJ"
      },
      "execution_count": null,
      "outputs": []
    },
    {
      "cell_type": "code",
      "source": [
        "#You have a list of tuples [(1, 'apple'), (2, 'banana'), (3, 'cherry')].\n",
        "#Sort the list based on the second element of each tuple using a lambda function.\n",
        "\n"
      ],
      "metadata": {
        "id": "-8Mu1PN3KnHp"
      },
      "execution_count": null,
      "outputs": []
    },
    {
      "cell_type": "code",
      "source": [
        "#Write a program to filter names longer than 5 characters from a list of names using a\n",
        "#lambda function and filter.\n"
      ],
      "metadata": {
        "id": "DeBfhjY9Kt2M"
      },
      "execution_count": null,
      "outputs": []
    }
  ]
}