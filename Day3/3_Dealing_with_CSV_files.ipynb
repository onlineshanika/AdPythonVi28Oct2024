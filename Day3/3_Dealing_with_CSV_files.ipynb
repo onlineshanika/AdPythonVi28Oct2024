{
  "cells": [
    {
      "cell_type": "code",
      "execution_count": null,
      "id": "f8e02419-2223-4c84-9d85-9445d006636f",
      "metadata": {
        "id": "f8e02419-2223-4c84-9d85-9445d006636f"
      },
      "outputs": [],
      "source": [
        "# Deal with CSV files\n",
        "# Standard Python Function for dealing with CSV ----------- csv"
      ]
    },
    {
      "cell_type": "code",
      "execution_count": null,
      "id": "1432fb70-1c29-4cb9-b38d-9107c1ff6717",
      "metadata": {
        "id": "1432fb70-1c29-4cb9-b38d-9107c1ff6717"
      },
      "outputs": [],
      "source": [
        "#Syntax:\n",
        "'''\n",
        "\n",
        "open(file, mode='r', buffering=-1, encoding=None, errors=None, newline=None, closefd=True, opener=None)\n",
        "\n",
        "Parameters:\n",
        "file: The path and name of the file to be opened.\n",
        "mode: The mode in which the file is opened. It's a string that specifies the mode. Common modes include:\n",
        "'r' for reading (default)\n",
        "'w' for writing, truncating the file first\n",
        "'x' for exclusive creation, failing if the file already exists\n",
        "'a' for writing, appending to the end of the file if it exists\n",
        "'b' for binary mode\n",
        "'t' for text mode (default)\n",
        "'+' for updating (reading and writing)\n",
        "Modes can be combined, like 'rb' or 'w+b'.\n",
        "buffering: An optional integer used to set the buffering policy. Passing 0 turns off buffering (only allowed in binary mode), 1 enables line buffering (only usable in text mode), and larger numbers specify the buffer size in bytes.\n",
        "encoding: The name of the encoding used to decode or encode the file. This should only be used in text mode.\n",
        "errors: An optional string that specifies how encoding and decoding errors are to be handled—this cannot be used in binary mode. Some examples include 'strict', 'ignore', and 'replace'.\n",
        "newline: Controls how universal newlines mode works (it only applies to text mode). It can be None, '', '\\n', '\\r', and '\\r\\n'.\n",
        "closefd: A boolean. If set to True (default), the underlying file descriptor will be closed when the file is closed. If set to False, the underlying file descriptor will remain open when the file closes.\n",
        "opener: A custom callable that opens the file descriptor. It takes two arguments, (file, flags). opener must return an open file descriptor (a small integer). This parameter enables opening files with various flags.\n",
        "\n",
        "\n",
        "'''"
      ]
    },
    {
      "cell_type": "code",
      "execution_count": 5,
      "id": "84554160-5180-46ee-b86b-25cbf597a042",
      "metadata": {
        "id": "84554160-5180-46ee-b86b-25cbf597a042"
      },
      "outputs": [],
      "source": [
        "# Writing a csv file\n",
        "\n",
        "import csv\n",
        "\n",
        "rows = [\n",
        "    ['Name','Salary','Location'],\n",
        "    ['Prashant',90000,'Mumbai'],\n",
        "    ['Arun',9999,'Chennai']\n",
        "]\n",
        "\n",
        "with open('demo.csv', mode='w', newline=\"\") as f:\n",
        "    writer = csv.writer(f)\n",
        "    writer.writerows(rows)"
      ]
    },
    {
      "cell_type": "code",
      "execution_count": 2,
      "id": "6803352d-37e8-4e3c-845a-87e8121746cc",
      "metadata": {
        "colab": {
          "base_uri": "https://localhost:8080/",
          "height": 211
        },
        "id": "6803352d-37e8-4e3c-845a-87e8121746cc",
        "outputId": "2f54d783-9047-4902-b159-33c50198abc2"
      },
      "outputs": [
        {
          "output_type": "error",
          "ename": "FileNotFoundError",
          "evalue": "[Errno 2] No such file or directory: 'demo1.csv'",
          "traceback": [
            "\u001b[0;31m---------------------------------------------------------------------------\u001b[0m",
            "\u001b[0;31mFileNotFoundError\u001b[0m                         Traceback (most recent call last)",
            "\u001b[0;32m<ipython-input-2-3eba56d47494>\u001b[0m in \u001b[0;36m<cell line: 7>\u001b[0;34m()\u001b[0m\n\u001b[1;32m      5\u001b[0m \u001b[0;32mimport\u001b[0m \u001b[0mcsv\u001b[0m\u001b[0;34m\u001b[0m\u001b[0;34m\u001b[0m\u001b[0m\n\u001b[1;32m      6\u001b[0m \u001b[0;34m\u001b[0m\u001b[0m\n\u001b[0;32m----> 7\u001b[0;31m \u001b[0;32mwith\u001b[0m \u001b[0mopen\u001b[0m\u001b[0;34m(\u001b[0m\u001b[0;34m'demo1.csv'\u001b[0m\u001b[0;34m,\u001b[0m\u001b[0mmode\u001b[0m\u001b[0;34m=\u001b[0m\u001b[0;34m'r'\u001b[0m\u001b[0;34m,\u001b[0m\u001b[0mnewline\u001b[0m\u001b[0;34m=\u001b[0m\u001b[0;34m'|'\u001b[0m\u001b[0;34m)\u001b[0m \u001b[0;32mas\u001b[0m \u001b[0mf\u001b[0m\u001b[0;34m:\u001b[0m\u001b[0;34m\u001b[0m\u001b[0;34m\u001b[0m\u001b[0m\n\u001b[0m\u001b[1;32m      8\u001b[0m     \u001b[0mreader\u001b[0m\u001b[0;34m=\u001b[0m \u001b[0mcsv\u001b[0m\u001b[0;34m.\u001b[0m\u001b[0mreader\u001b[0m\u001b[0;34m(\u001b[0m\u001b[0mf\u001b[0m\u001b[0;34m)\u001b[0m\u001b[0;34m\u001b[0m\u001b[0;34m\u001b[0m\u001b[0m\n\u001b[1;32m      9\u001b[0m     \u001b[0;32mfor\u001b[0m \u001b[0mrow\u001b[0m \u001b[0;32min\u001b[0m \u001b[0mreader\u001b[0m\u001b[0;34m:\u001b[0m\u001b[0;34m\u001b[0m\u001b[0;34m\u001b[0m\u001b[0m\n",
            "\u001b[0;31mFileNotFoundError\u001b[0m: [Errno 2] No such file or directory: 'demo1.csv'"
          ]
        }
      ],
      "source": [
        "#Reading a csv file\n",
        "\n",
        "#Basic Method\n",
        "\n",
        "import csv\n",
        "\n",
        "with open('demo.csv',mode='r',newline='') as f:\n",
        "    reader= csv.reader(f)\n",
        "    for row in reader:\n",
        "        print(row)"
      ]
    },
    {
      "cell_type": "code",
      "execution_count": 7,
      "id": "5acf216d-e0a6-426e-b02a-9da41c4a0f5d",
      "metadata": {
        "colab": {
          "base_uri": "https://localhost:8080/"
        },
        "id": "5acf216d-e0a6-426e-b02a-9da41c4a0f5d",
        "outputId": "d05f6763-42f8-445b-a897-e86459a9bea4"
      },
      "outputs": [
        {
          "output_type": "stream",
          "name": "stdout",
          "text": [
            "Header is  ['Name', 'Salary', 'Location']\n",
            "Records are \n",
            "\n",
            "['Prashant', '90000', 'Mumbai']\n",
            "['Arun', '9999', 'Chennai']\n"
          ]
        }
      ],
      "source": [
        "# Logically seperate header and data\n",
        "# Assuming header is the first record of my file\n",
        "\n",
        "# next() ----- cursor\n",
        "\n",
        "import csv\n",
        "\n",
        "with open('demo.csv',mode='r',newline='') as f:\n",
        "    reader= csv.reader(f)\n",
        "    header = next(reader)\n",
        "    print(\"Header is \",header)\n",
        "    print(\"Records are \\n\")\n",
        "    for row in reader:\n",
        "        print(row)"
      ]
    },
    {
      "cell_type": "code",
      "execution_count": null,
      "id": "fe99ced6-8170-462d-924d-2a34633fb849",
      "metadata": {
        "id": "fe99ced6-8170-462d-924d-2a34633fb849",
        "outputId": "950ccdf2-5089-4960-ac81-2f44ee9ea86f"
      },
      "outputs": [
        {
          "name": "stdout",
          "output_type": "stream",
          "text": [
            "{'Name': 'Prashant', 'Salary': '90000', 'Location': 'Mumbai'}\n",
            "{'Name': 'Arun', 'Salary': '9999', 'Location': 'Chennai'}\n"
          ]
        }
      ],
      "source": [
        "# Read and Write data with Dictionary objects\n",
        "\n",
        "# Read\n",
        "\n",
        "with open(\"demo.csv\", mode='r', newline='') as f:\n",
        "    reader=csv.DictReader(f)\n",
        "    for record in reader:\n",
        "        print(record)"
      ]
    },
    {
      "cell_type": "code",
      "execution_count": null,
      "id": "e506ab9b-47c5-4a1f-900a-a8437be66025",
      "metadata": {
        "id": "e506ab9b-47c5-4a1f-900a-a8437be66025"
      },
      "outputs": [],
      "source": [
        "# Write\n",
        "\n",
        "with open(\"output1.csv\", mode='w', newline='') as f:\n",
        "    header=['Name','Salary','Location']\n",
        "    writer = csv.DictWriter(f,fieldnames=header)\n",
        "\n",
        "    writer.writeheader()  #Write the header of the file\n",
        "\n",
        "    writer.writerow({'Name': 'Prashant', 'Salary': '90000', 'Location': 'Mumbai'})\n"
      ]
    },
    {
      "cell_type": "code",
      "execution_count": null,
      "id": "0c1ccb17-d731-4152-bc7e-9c2c92bd2e1a",
      "metadata": {
        "id": "0c1ccb17-d731-4152-bc7e-9c2c92bd2e1a"
      },
      "outputs": [],
      "source": [
        "#Change the delimiter  to \\t\n",
        "\n",
        "import csv\n",
        "\n",
        "rows = [\n",
        "    ['Name','Salary','Location'],\n",
        "    ['Prashant',90000,'Mumbai'],\n",
        "    ['Arun',9999,'Chennai']\n",
        "]\n",
        "\n",
        "with open('demo.tsv', mode='w', newline='') as f:\n",
        "    writer = csv.writer(f, delimiter='\\t')\n",
        "    writer.writerows(rows)"
      ]
    },
    {
      "cell_type": "code",
      "execution_count": null,
      "id": "1f4524d8-b727-4d8d-9df9-0fa05ea15732",
      "metadata": {
        "id": "1f4524d8-b727-4d8d-9df9-0fa05ea15732",
        "outputId": "09a60e7c-87a6-4144-8d34-fe2ee0c23f41"
      },
      "outputs": [
        {
          "name": "stdout",
          "output_type": "stream",
          "text": [
            "['Name\\tSalary\\tLocation']\n",
            "['Prashant\\t90000\\tMumbai']\n",
            "['Arun\\t9999\\tChennai']\n"
          ]
        }
      ],
      "source": [
        "#read\n",
        "import csv\n",
        "\n",
        "with open('demo.tsv',mode='r',newline='') as f:\n",
        "    reader= csv.reader(f, delimiter='\\t')\n",
        "    for row in reader:\n",
        "        print(row)"
      ]
    },
    {
      "cell_type": "code",
      "execution_count": null,
      "id": "914a31f9-5d99-4057-91f3-88196f4bd0f9",
      "metadata": {
        "id": "914a31f9-5d99-4057-91f3-88196f4bd0f9"
      },
      "outputs": [],
      "source": [
        "# Write\n",
        "\n",
        "with open(\"output1.tsv\", mode='w', newline='') as f:\n",
        "    header=['Name','Salary','Location']\n",
        "    writer = csv.DictWriter(f,fieldnames=header, delimiter='\\t')\n",
        "\n",
        "    writer.writeheader()  #Write the header of the file\n",
        "\n",
        "    writer.writerow({'Name': 'Prashant', 'Salary': '90000', 'Location': 'Mumbai'})"
      ]
    },
    {
      "cell_type": "code",
      "execution_count": null,
      "id": "4cf8003f-af19-4052-8456-6bf0e16567dd",
      "metadata": {
        "id": "4cf8003f-af19-4052-8456-6bf0e16567dd"
      },
      "outputs": [],
      "source": []
    }
  ],
  "metadata": {
    "kernelspec": {
      "display_name": "Python 3 [3.10]",
      "language": "python",
      "name": "python3"
    },
    "language_info": {
      "codemirror_mode": {
        "name": "ipython",
        "version": 3
      },
      "file_extension": ".py",
      "mimetype": "text/x-python",
      "name": "python",
      "nbconvert_exporter": "python",
      "pygments_lexer": "ipython3",
      "version": "3.10.2"
    },
    "colab": {
      "provenance": []
    }
  },
  "nbformat": 4,
  "nbformat_minor": 5
}